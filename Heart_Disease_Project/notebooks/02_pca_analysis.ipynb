# 2D visualization (first two PCs)
import matplotlib.pyplot as plt

pc12 = Xt_pca[:, :2]
plt.figure(figsize=(6,5))
plt.scatter(pc12[:,0], pc12[:,1], c=y_train, cmap='coolwarm', s=25, alpha=0.8)
plt.xlabel('PC1')
plt.ylabel('PC2')
plt.title('PCA Scatter (train)')
plt.tight_layout()
plt.savefig(PROJECT_DIR / 'results' / 'pca_scatter.png', dpi=150)
plt.show()# 02 PCA Analysis
from pathlib import Path
import pandas as pd
import matplotlib.pyplot as plt
import seaborn as sns
from joblib import load
from sklearn.decomposition import PCA
from sklearn.model_selection import train_test_split

PROJECT_DIR = Path(__file__).resolve().parents[1]
DATA_PATH = PROJECT_DIR / "data" / "heart_disease.csv"
pre = load(PROJECT_DIR / "models" / "preprocessor.pkl")

raw = pd.read_csv(DATA_PATH)
cols = raw.columns.str.lower().str.strip()
raw.columns = cols
if 'heartdisease' in raw.columns and 'target' not in raw.columns:
    raw = raw.rename(columns={'heartdisease': 'target'})

X = raw.drop(columns=['target'])
y = raw['target']

from sklearn.model_selection import train_test_split
X_train, X_test, y_train, y_test = train_test_split(X, y, test_size=0.2, random_state=42, stratify=y)

Xt = pre["preprocessor"].transform(X_train)

pca = PCA(n_components=None, random_state=42)
Xt_pca = pca.fit_transform(Xt)

explained = pca.explained_variance_ratio_

import numpy as np
cum = explained.cumsum()

plt.figure(figsize=(8,4))
plt.plot(range(1, len(explained)+1), cum, marker='o')
plt.axhline(0.95, color='r', linestyle='--')
plt.xlabel('Number of components')
plt.ylabel('Cumulative explained variance')
plt.title('PCA Cumulative Explained Variance')
plt.tight_layout()
plt.savefig(PROJECT_DIR / 'results' / 'pca_cumulative_variance.png', dpi=150)
plt.show()

print('Components to reach 95% variance:', int((cum >= 0.95).argmax()+1))