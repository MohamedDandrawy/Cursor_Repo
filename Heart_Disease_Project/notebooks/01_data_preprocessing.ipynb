# Preprocessing: impute, encode, scale
# Normalize column names across possible CSV variants
cols = raw.columns.str.lower().str.strip()
raw.columns = cols
if 'heartdisease' in raw.columns and 'target' not in raw.columns:
    raw = raw.rename(columns={'heartdisease': 'target'})

X = raw.drop(columns=['target'])
y = raw['target']

num_features = [c for c in X.columns if X[c].dtype != 'object']
cat_features = [c for c in X.columns if X[c].dtype == 'object']

numeric_transformer = Pipeline(steps=[
    ("imputer", SimpleImputer(strategy="median")),
    ("scaler", StandardScaler())
])

categorical_transformer = Pipeline(steps=[
    ("imputer", SimpleImputer(strategy="most_frequent")),
    ("onehot", OneHotEncoder(handle_unknown="ignore"))
])

preprocessor = ColumnTransformer(
    transformers=[
        ("num", numeric_transformer, num_features),
        ("cat", categorical_transformer, cat_features),
    ]
)

X_train, X_test, y_train, y_test = train_test_split(X, y, test_size=0.2, random_state=42, stratify=y)

from joblib import dump

# Fit and persist preprocessor fitted on training set
preprocessor.fit(X_train)
dump({
    "preprocessor": preprocessor,
    "feature_names": list(X.columns),
    "target_name": "target",
}, PROJECT_DIR / "models" / "preprocessor.pkl")

print("Preprocessing complete. Saved to models/preprocessor.pkl")# EDA: histograms and boxplots
num_cols = [c for c in raw.columns if raw[c].dtype != 'object' and c != 'target']
cat_cols = [c for c in raw.columns if raw[c].dtype == 'object']

_ = raw[num_cols].hist(figsize=(12, 10))
plt.tight_layout()
plt.savefig(RESULTS_DIR / 'eda_histograms.png', dpi=150)
plt.show()

plt.figure(figsize=(12, 8))
sns.boxplot(data=raw[num_cols])
plt.xticks(rotation=45)
plt.tight_layout()
plt.savefig(RESULTS_DIR / 'eda_boxplots.png', dpi=150)
plt.show()

plt.figure(figsize=(10,8))
sns.heatmap(raw.corr(numeric_only=True), annot=False, cmap='coolwarm')
plt.tight_layout()
plt.savefig(RESULTS_DIR / 'eda_corr_heatmap.png', dpi=150)
plt.show()# Basic info
raw.info()
raw.describe(include="all").T# 01 Data Preprocessing & EDA
import os
from pathlib import Path

import numpy as np
import pandas as pd
import seaborn as sns
import matplotlib.pyplot as plt
from sklearn.model_selection import train_test_split
from sklearn.compose import ColumnTransformer
from sklearn.preprocessing import OneHotEncoder, StandardScaler
from sklearn.pipeline import Pipeline
from sklearn.impute import SimpleImputer

PROJECT_DIR = Path(__file__).resolve().parents[1]
DATA_PATH = PROJECT_DIR / "data" / "heart_disease.csv"
RESULTS_DIR = PROJECT_DIR / "results"
RESULTS_DIR.mkdir(parents=True, exist_ok=True)

# Load
raw = pd.read_csv(DATA_PATH)
print(raw.shape)
raw.head()