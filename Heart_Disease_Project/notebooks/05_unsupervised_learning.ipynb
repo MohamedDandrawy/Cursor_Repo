# 05 Unsupervised Learning
from pathlib import Path
import pandas as pd
import numpy as np
import matplotlib.pyplot as plt
import seaborn as sns
from sklearn.cluster import KMeans
from sklearn.metrics import silhouette_score
from scipy.cluster.hierarchy import linkage, dendrogram, fcluster
from joblib import load

PROJECT_DIR = Path(__file__).resolve().parents[1]
DATA_PATH = PROJECT_DIR / "data" / "heart_disease.csv"
pre = load(PROJECT_DIR / "models" / "preprocessor.pkl")

raw = pd.read_csv(DATA_PATH)
raw.columns = raw.columns.str.lower().str.strip()
if 'heartdisease' in raw.columns and 'target' not in raw.columns:
    raw = raw.rename(columns={'heartdisease': 'target'})
X = raw.drop(columns=['target'])
y = raw['target']
Xt = pre['preprocessor'].fit_transform(X)

# KMeans elbow and silhouette
ks = list(range(2, min(8, Xt.shape[0])))
inertias, sils = [], []
for k in ks:
    km = KMeans(n_clusters=k, n_init=10, random_state=42)
    labels = km.fit_predict(Xt)
    inertias.append(km.inertia_)
    sils.append(silhouette_score(Xt, labels) if len(set(labels))>1 else np.nan)

plt.figure(figsize=(6,4))
plt.plot(ks, inertias, marker='o')
plt.xlabel('k')
plt.ylabel('Inertia')
plt.title('Elbow Method')
plt.tight_layout()
plt.savefig(PROJECT_DIR / 'results' / 'kmeans_elbow.png', dpi=150)
plt.show()

plt.figure(figsize=(6,4))
plt.plot(ks, sils, marker='o')
plt.xlabel('k')
plt.ylabel('Silhouette')
plt.title('Silhouette Scores')
plt.tight_layout()
plt.savefig(PROJECT_DIR / 'results' / 'kmeans_silhouette.png', dpi=150)
plt.show()

# Hierarchical
Z = linkage(Xt, method='ward')
plt.figure(figsize=(8,4))
dendrogram(Z, no_labels=True, color_threshold=0)
plt.title('Hierarchical Dendrogram')
plt.tight_layout()
plt.savefig(PROJECT_DIR / 'results' / 'hierarchical_dendrogram.png', dpi=150)
plt.show()

# Compare cluster labels to target (if exists)
labels_2 = fcluster(Z, t=2, criterion='maxclust')
print('Cluster vs target cross-tab:')
print(pd.crosstab(labels_2, y))