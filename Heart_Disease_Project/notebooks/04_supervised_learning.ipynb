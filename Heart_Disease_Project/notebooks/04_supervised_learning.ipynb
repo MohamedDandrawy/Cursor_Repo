# 04 Supervised Learning
from pathlib import Path
import pandas as pd
import numpy as np
from sklearn.model_selection import train_test_split
from sklearn.linear_model import LogisticRegression
from sklearn.tree import DecisionTreeClassifier
from sklearn.ensemble import RandomForestClassifier
from sklearn.svm import SVC
from sklearn.metrics import accuracy_score, precision_score, recall_score, f1_score, roc_auc_score, roc_curve
from sklearn.pipeline import Pipeline
from joblib import load, dump
import matplotlib.pyplot as plt

PROJECT_DIR = Path(__file__).resolve().parents[1]
DATA_PATH = PROJECT_DIR / "data" / "heart_disease.csv"
pre = load(PROJECT_DIR / "models" / "preprocessor.pkl")

raw = pd.read_csv(DATA_PATH)
raw.columns = raw.columns.str.lower().str.strip()
if 'heartdisease' in raw.columns and 'target' not in raw.columns:
    raw = raw.rename(columns={'heartdisease': 'target'})
X = raw.drop(columns=['target'])
y = raw['target']
X_train, X_test, y_train, y_test = train_test_split(X, y, test_size=0.2, random_state=42, stratify=y)

models = {
    'log_reg': LogisticRegression(max_iter=1000),
    'decision_tree': DecisionTreeClassifier(random_state=42),
    'random_forest': RandomForestClassifier(n_estimators=300, random_state=42),
    'svm': SVC(probability=True, kernel='rbf', random_state=42)
}

results = {}
plt.figure(figsize=(6,5))
for name, clf in models.items():
    pipe = Pipeline(steps=[('pre', pre['preprocessor']), ('clf', clf)])
    pipe.fit(X_train, y_train)
    y_pred = pipe.predict(X_test)
    y_proba = pipe.predict_proba(X_test)[:,1] if hasattr(pipe.named_steps['clf'], 'predict_proba') else None
    metrics = {
        'accuracy': accuracy_score(y_test, y_pred),
        'precision': precision_score(y_test, y_pred, zero_division=0),
        'recall': recall_score(y_test, y_pred, zero_division=0),
        'f1': f1_score(y_test, y_pred, zero_division=0),
        'auc': roc_auc_score(y_test, y_proba) if y_proba is not None else float('nan')
    }
    results[name] = metrics
    if y_proba is not None:
        fpr, tpr, _ = roc_curve(y_test, y_proba)
        plt.plot(fpr, tpr, label=f"{name} (AUC={metrics['auc']:.2f})")

plt.plot([0,1],[0,1],'k--')
plt.xlabel('FPR')
plt.ylabel('TPR')
plt.title('ROC Curves')
plt.legend()
plt.tight_layout()
plt.savefig(PROJECT_DIR / 'results' / 'roc_curves.png', dpi=150)
plt.show()

import json
with open(PROJECT_DIR / 'results' / 'evaluation_metrics.txt', 'w') as f:
    for name, m in results.items():
        f.write(f"{name}: {m}\n")

# Save best model pipeline
best_name = max(results, key=lambda k: results[k]['auc'] if not np.isnan(results[k]['auc']) else -1)
print('Best model:', best_name, results[best_name])
best_pipe = Pipeline(steps=[('pre', pre['preprocessor']), ('clf', models[best_name])])
best_pipe.fit(X, y)
dump(best_pipe, PROJECT_DIR / 'models' / 'final_model.pkl')
print('Saved final model to models/final_model.pkl')