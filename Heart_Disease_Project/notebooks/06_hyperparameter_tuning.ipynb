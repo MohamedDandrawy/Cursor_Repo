# 06 Hyperparameter Tuning
from pathlib import Path
import pandas as pd
from sklearn.model_selection import train_test_split, GridSearchCV, RandomizedSearchCV
from sklearn.ensemble import RandomForestClassifier
from sklearn.pipeline import Pipeline
from joblib import load, dump

PROJECT_DIR = Path(__file__).resolve().parents[1]
DATA_PATH = PROJECT_DIR / "data" / "heart_disease.csv"
pre = load(PROJECT_DIR / "models" / "preprocessor.pkl")

raw = pd.read_csv(DATA_PATH)
raw.columns = raw.columns.str.lower().str.strip()
if 'heartdisease' in raw.columns and 'target' not in raw.columns:
    raw = raw.rename(columns={'heartdisease': 'target'})
X = raw.drop(columns=['target'])
y = raw['target']
X_train, X_test, y_train, y_test = train_test_split(X, y, test_size=0.2, random_state=42, stratify=y)

pipe = Pipeline(steps=[('pre', pre['preprocessor']), ('clf', RandomForestClassifier(random_state=42))])

param_grid = {
    'clf__n_estimators': [100, 200, 400],
    'clf__max_depth': [None, 5, 10],
    'clf__min_samples_split': [2, 5, 10],
}

grid = GridSearchCV(pipe, param_grid=param_grid, cv=3, n_jobs=-1)
grid.fit(X_train, y_train)
print('Grid best params:', grid.best_params_)

from scipy.stats import randint
param_dist = {
    'clf__n_estimators': randint(100, 600),
    'clf__max_depth': [None, 4, 6, 8, 10],
    'clf__min_samples_split': randint(2, 12),
}
rand = RandomizedSearchCV(pipe, param_distributions=param_dist, n_iter=10, cv=3, n_jobs=-1, random_state=42)
rand.fit(X_train, y_train)
print('Random best params:', rand.best_params_)

best = max([grid, rand], key=lambda m: m.best_score_)
dump(best.best_estimator_, PROJECT_DIR / 'models' / 'final_model.pkl')
print('Saved tuned model pipeline.')